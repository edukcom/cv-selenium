{
  "nbformat": 4,
  "nbformat_minor": 0,
  "metadata": {
    "colab": {
      "name": "colab_image 크롤링 by selenium.ipynb",
      "provenance": [],
      "collapsed_sections": []
    },
    "kernelspec": {
      "name": "python3",
      "display_name": "Python 3"
    },
    "language_info": {
      "name": "python"
    }
  },
  "cells": [
    {
      "cell_type": "code",
      "metadata": {
        "id": "EAGZRcOvDjKe"
      },
      "source": [
        "!pip install selenium\n",
        "!apt-get update\n",
        "!apt install chromium-chromedriver"
      ],
      "execution_count": null,
      "outputs": []
    },
    {
      "cell_type": "code",
      "metadata": {
        "colab": {
          "base_uri": "https://localhost:8080/",
          "height": 89
        },
        "id": "h7YVMB08Btb2",
        "outputId": "6b41f52b-2906-4783-8111-ea80c0d09f42"
      },
      "source": [
        "from urllib.request import urlretrieve\n",
        "from urllib.parse import quote_plus\n",
        "from bs4 import BeautifulSoup    # pip install bs4\n",
        "from selenium import webdriver   # pip install selenium\n",
        "import os\n",
        "\n",
        "def createFolder(dir):\n",
        "    try:\n",
        "        if not os.path.exists(dir):\n",
        "            os.makedirs(dir)\n",
        "    except OSError:\n",
        "        print('Error: Creating directory. '+dir)\n",
        "\n",
        "\n",
        "search = input(\"키워드를 입력하시오. \")\n",
        "url = f'https://www.google.co.kr/search?tbm=isch&q={quote_plus(search)}'\n",
        "\n",
        "#driver = webdriver.Chrome('/content/drive/MyDrive/ttt/driver/chromedriver.exe')\n",
        "\n",
        "##--colab 추가 부분--\n",
        "chrome_options = webdriver.ChromeOptions()\n",
        "chrome_options.add_argument('--headless')\n",
        "chrome_options.add_argument('--no-sandbox')\n",
        "chrome_options.add_argument('--disable-dev-shm-usage')\n",
        "driver = webdriver.Chrome('chromedriver', chrome_options=chrome_options)\n",
        "##--colab 추가 부분--\n",
        "\n",
        "driver.implicitly_wait(3)\n",
        "driver.get(url)\n",
        "\n",
        "num=2\n",
        "for i in range(num):\n",
        "    driver.execute_script(\"window.scrollBy(0,1000)\")\n",
        "\n",
        "html = driver.page_source\n",
        "soup = BeautifulSoup(html,'html.parser')\n",
        "\n",
        "img = soup.select('.rg_i.Q4LuWd')\n",
        "\n",
        "n=1\n",
        "imgurl = []\n",
        "\n",
        "for i in img:\n",
        "    try:\n",
        "        imgurl.append(i.attrs[\"src\"])\n",
        "    except KeyError:\n",
        "        imgurl.append(i.attrs[\"data-src\"])\n",
        "                      \n",
        "for i in imgurl:\n",
        "    dir=\"/content/drive/MyDrive/ttt/images/\"+search  # 이미지 다운받을 경로 설정\n",
        "    createFolder(dir)\n",
        "    urlretrieve(i, dir+\"/\"+search+str(n)+\".jpg\")\n",
        "    n+=1\n",
        "\n",
        "driver.close()\n",
        "                      \n",
        "'''\n",
        "Don't know what it stands for, but the tbm URL parameter appears to indicate the filter used.\n",
        "\n",
        "For example:\n",
        "\n",
        "Applications: tbm=app\n",
        "Blogs: tbm=blg\n",
        "Books: tbm=bks\n",
        "Discussions: tbm=dsc\n",
        "Images: tbm=isch\n",
        "News: tbm=nws\n",
        "Patents: tbm=pts\n",
        "Places: tbm=plcs\n",
        "Recipes: tbm=rcp\n",
        "Shopping: tbm=shop\n",
        "Video: tbm=vid\n",
        "'''"
      ],
      "execution_count": 5,
      "outputs": [
        {
          "output_type": "stream",
          "text": [
            "키워드를 입력하시오. 고양이\n"
          ],
          "name": "stdout"
        },
        {
          "output_type": "stream",
          "text": [
            "/usr/local/lib/python3.7/dist-packages/ipykernel_launcher.py:24: DeprecationWarning: use options instead of chrome_options\n"
          ],
          "name": "stderr"
        },
        {
          "output_type": "execute_result",
          "data": {
            "application/vnd.google.colaboratory.intrinsic+json": {
              "type": "string"
            },
            "text/plain": [
              "\"\\nDon't know what it stands for, but the tbm URL parameter appears to indicate the filter used.\\n\\nFor example:\\n\\nApplications: tbm=app\\nBlogs: tbm=blg\\nBooks: tbm=bks\\nDiscussions: tbm=dsc\\nImages: tbm=isch\\nNews: tbm=nws\\nPatents: tbm=pts\\nPlaces: tbm=plcs\\nRecipes: tbm=rcp\\nShopping: tbm=shop\\nVideo: tbm=vid\\n\""
            ]
          },
          "metadata": {
            "tags": []
          },
          "execution_count": 5
        }
      ]
    }
  ]
}